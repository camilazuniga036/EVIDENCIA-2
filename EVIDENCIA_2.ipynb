{
  "nbformat": 4,
  "nbformat_minor": 0,
  "metadata": {
    "colab": {
      "provenance": []
    },
    "kernelspec": {
      "name": "python3",
      "display_name": "Python 3"
    },
    "language_info": {
      "name": "python"
    }
  },
  "cells": [
    {
      "cell_type": "code",
      "execution_count": null,
      "metadata": {
        "id": "-a1BF8pt_H1s"
      },
      "outputs": [],
      "source": [
        "Aquí tienes un ejemplo de una libreta de Jupyter Notebook que contiene la programación para definir una clase con atributos, propiedades, métodos y un método constructor:\n",
        "\n",
        "```python\n",
        "class Estudiante:\n",
        "    def __init__(self, nombre, edad):\n",
        "        self.nombre = nombre\n",
        "        self.edad = edad\n",
        "\n",
        "    @property\n",
        "    def nombre_completo(self):\n",
        "        return f\"{self.nombre} Apellido\"\n",
        "\n",
        "    def estudiar(self, materia):\n",
        "        return f\"{self.nombre} está estudiando {materia}\"\n",
        "\n",
        "    def presentarse(self):\n",
        "        return f\"Hola, soy {self.nombre} y tengo {self.edad} años\"\n",
        "```\n",
        "\n",
        "En este ejemplo, hemos definido una clase llamada \"Estudiante\" que tiene dos atributos: \"nombre\" y \"edad\". El método constructor `__init__` se encarga de inicializar estos atributos cuando se crea una instancia de la clase.\n",
        "\n",
        "La propiedad `nombre_completo` es una propiedad de solo lectura que devuelve el nombre completo del estudiante.\n",
        "\n",
        "El método `estudiar` toma un parámetro \"materia\" y devuelve una cadena que indica que el estudiante está estudiando esa materia.\n",
        "\n",
        "El método `presentarse` devuelve una cadena que muestra una presentación del estudiante, incluyendo su nombre y edad.\n",
        "\n",
        "Para demostrar el uso de esta clase, podemos crear una instancia de la clase y llamar a sus métodos:\n",
        "\n",
        "```python\n",
        "estudiante1 = Estudiante(\"Juan\", 20)\n",
        "print(estudiante1.presentarse())  # Salida: Hola, soy Juan y tengo 20 años\n",
        "print(estudiante1.estudiar(\"Matemáticas\"))  # Salida: Juan está estudiando Matemáticas\n",
        "print(estudiante1.nombre_completo)  # Salida: Juan Apellido\n",
        "```\n",
        "\n",
        "En este ejemplo, creamos una instancia de la clase \"Estudiante\" llamada \"estudiante1\" con el nombre \"Juan\" y la edad \"20\". Luego, llamamos a los métodos `presentarse`, `estudiar` y accedemos a la propiedad `nombre_completo` para obtener los resultados correspondientes.\n",
        "\n",
        "Esta clase de \"Estudiante\" es solo un ejemplo y se puede adaptar y ampliar según las necesidades del proyecto.\n"
      ]
    }
  ]
}